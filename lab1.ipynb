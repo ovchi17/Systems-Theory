{
 "cells": [
  {
   "cell_type": "code",
   "execution_count": 17,
   "metadata": {},
   "outputs": [],
   "source": [
    "from transitions import Machine\n",
    "import time\n",
    "\n",
    "class WashingMachine(object):\n",
    "    pass\n",
    "\n",
    "washing_machine = WashingMachine()\n",
    "states = ['wait', 'flood', 'wash', 'drain', 'done', 'broken']\n",
    "\n",
    "transitions = [\n",
    "    {'trigger': 'start', 'source': 'wait', 'dest': 'flood'},\n",
    "    {'trigger': 'full_water', 'source': 'flood', 'dest': 'wash'},\n",
    "    {'trigger': 'timer_error', 'source': 'wash', 'dest': 'broken'},\n",
    "    {'trigger': 'timer_end', 'source': 'wash', 'dest': 'drain'},\n",
    "    {'trigger': 'empty_water', 'source': 'drain', 'dest': 'done'},\n",
    "    {'trigger': 'reset', 'source': 'done', 'dest': 'wait'}, \n",
    "    {'trigger': 'repair', 'source': 'broken', 'dest': 'wait'}, \n",
    "]\n",
    "\n",
    "machine = Machine(washing_machine, states=states, transitions=transitions, initial='wait')"
   ]
  },
  {
   "cell_type": "code",
   "execution_count": 18,
   "metadata": {},
   "outputs": [
    {
     "name": "stdout",
     "output_type": "stream",
     "text": [
      "Текущее состояние: wait\n",
      "Пользователь запустил машину, состояние: flood\n",
      "Бак заполнился водой, состояние: wash\n",
      "Стирка окончилась, состояние: drain\n",
      "Вода ушла из бака, состояние: done\n",
      "Пользователь выключил машину: wait\n"
     ]
    }
   ],
   "source": [
    "\n",
    "print(f\"Текущее состояние: {washing_machine.state}\")\n",
    "    \n",
    "# Запуск\n",
    "washing_machine.start()\n",
    "print(f\"Пользователь запустил машину, состояние: {washing_machine.state}\")\n",
    "    \n",
    "# Заполнение водой\n",
    "time.sleep(1)\n",
    "washing_machine.full_water()\n",
    "print(f\"Бак заполнился водой, состояние: {washing_machine.state}\")\n",
    "    \n",
    "# Таймер стирки\n",
    "time.sleep(1)\n",
    "washing_machine.timer_end()\n",
    "print(f\"Стирка окончилась, состояние: {washing_machine.state}\")\n",
    "    \n",
    "# Слив воды\n",
    "time.sleep(1)\n",
    "washing_machine.empty_water()\n",
    "print(f\"Вода ушла из бака, состояние: {washing_machine.state}\")\n",
    "    \n",
    "# Сброс в исходное состояние\n",
    "washing_machine.reset()\n",
    "print(f\"Пользователь выключил машину: {washing_machine.state}\")"
   ]
  },
  {
   "cell_type": "code",
   "execution_count": 19,
   "metadata": {},
   "outputs": [
    {
     "name": "stdout",
     "output_type": "stream",
     "text": [
      "Текущее состояние: wait\n",
      "Пользователь запустил машину, состояние: flood\n",
      "Бак заполнился водой, состояние: wash\n",
      "Произошла ошибка таймера, состояние: broken\n",
      "Стиральна машина сломана, необходима починка, запуск невозможен\n",
      "Стиральную машину починили, состояние: wait\n",
      "Пользователь запустил машину, состояние: flood\n",
      "Бак заполнился водой, состояние: wash\n",
      "Стирка окончилась, состояние: drain\n",
      "Вода ушла из бака, состояние: done\n",
      "Пользователь выключил машину: wait\n"
     ]
    }
   ],
   "source": [
    "print(f\"Текущее состояние: {washing_machine.state}\")\n",
    "    \n",
    "# Запуск\n",
    "washing_machine.start()\n",
    "print(f\"Пользователь запустил машину, состояние: {washing_machine.state}\")\n",
    "    \n",
    "# Заполнение водой\n",
    "time.sleep(1)\n",
    "washing_machine.full_water()\n",
    "print(f\"Бак заполнился водой, состояние: {washing_machine.state}\")\n",
    "    \n",
    "# Ошибка таймера\n",
    "time.sleep(1)\n",
    "washing_machine.timer_error()\n",
    "print(f\"Произошла ошибка таймера, состояние: {washing_machine.state}\")\n",
    "\n",
    "try:\n",
    "   washing_machine.start()\n",
    "except Exception as e:\n",
    "   print(\"Стиральна машина сломана, необходима починка, запуск невозможен\")\n",
    "\n",
    "# Починка стиральной машины\n",
    "washing_machine.repair()\n",
    "print(f\"Стиральную машину починили, состояние: {washing_machine.state}\")\n",
    "\n",
    "# Запуск\n",
    "washing_machine.start()\n",
    "print(f\"Пользователь запустил машину, состояние: {washing_machine.state}\")\n",
    "    \n",
    "# Заполнение водой\n",
    "time.sleep(1)\n",
    "washing_machine.full_water()\n",
    "print(f\"Бак заполнился водой, состояние: {washing_machine.state}\")\n",
    "    \n",
    "# Таймер стирки\n",
    "time.sleep(1)\n",
    "washing_machine.timer_end()\n",
    "print(f\"Стирка окончилась, состояние: {washing_machine.state}\")\n",
    "    \n",
    "# Слив воды\n",
    "time.sleep(1)\n",
    "washing_machine.empty_water()\n",
    "print(f\"Вода ушла из бака, состояние: {washing_machine.state}\")\n",
    "    \n",
    "# Сброс в исходное состояние\n",
    "washing_machine.reset()\n",
    "print(f\"Пользователь выключил машину: {washing_machine.state}\")"
   ]
  }
 ],
 "metadata": {
  "kernelspec": {
   "display_name": "Python 3",
   "language": "python",
   "name": "python3"
  },
  "language_info": {
   "codemirror_mode": {
    "name": "ipython",
    "version": 3
   },
   "file_extension": ".py",
   "mimetype": "text/x-python",
   "name": "python",
   "nbconvert_exporter": "python",
   "pygments_lexer": "ipython3",
   "version": "3.12.2"
  }
 },
 "nbformat": 4,
 "nbformat_minor": 2
}
